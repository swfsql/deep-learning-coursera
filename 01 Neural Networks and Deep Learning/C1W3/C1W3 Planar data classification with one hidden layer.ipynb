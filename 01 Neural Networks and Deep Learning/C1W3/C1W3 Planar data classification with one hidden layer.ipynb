{
 "cells": [
  {
   "cell_type": "markdown",
   "metadata": {},
   "source": [
    "---\n",
    ">Disclaimer:  \n",
    ">I did not paid and do not own any of the this.  \n",
    ">All of the material were found on youtube or in other Github projects - including the code solutions.\n",
    ">\n",
    ">Youtube resources:\n",
    ">- C1W3L01 - C1W3L11 - https://www.youtube.com/watch?v=fXOsFF95ifk&list=PLkDaE6sCZn6Ec-XTbcX1uRg2_u4xOEky0&index=25\n",
    ">- Lecture 2 - Deep Learning Intuition - https://www.youtube.com/watch?v=AwQHqWyHRpU&list=PLoROMvodv4rOABXSygHTsbvUz4G_YQhOb&index=2\n",
    ">- 3b1b AI series - https://www.youtube.com/watch?v=aircAruvnKk&list=PLZHQObOWTQDNU6R1_67000Dx_ZCJB-3pi\n",
    ">\n",
    ">Github project resources:\n",
    ">- https://github.com/Kulbear/deep-learning-coursera (main notebook + solutions)\n",
    ">- https://github.com/andersy005/deep-learning-specialization-coursera (datasets, util scripts)\n",
    ">\n",
    ">What I did:\n",
    ">Learnt about this subject by re-implementing the solutions in another language (Rust - https://github.com/google/evcxr/tree/master/evcxr_jupyter).  \n",
    ">Some aspects of the solutions are different (longer, slower) because this is an opportunity (for me) to better understand the concepts.  \n",
    ">For this reason, sometimes I changed terms, names or relations from the original text in order to better correspond to my acutual re-implementation.  \n",
    ">(To sum it up, this is \"exploratory exercise\", not \"serious implementation\")\n",
    "\n",
    "---"
   ]
  },
  {
   "cell_type": "markdown",
   "metadata": {},
   "source": [
    "# Planar data classification with one hidden layer\n",
    "\n",
    "Welcome to your week 3 programming assignment. It's time to build your first neural network, which will have a hidden layer. You will see a big difference between this model and the one you implemented using logistic regression. \n",
    "\n",
    "**You will learn how to:**\n",
    "- Implement a 2-class classification neural network with a single hidden layer\n",
    "- Use units with a non-linear activation function, such as tanh \n",
    "- Compute the cross entropy loss \n",
    "- Implement forward and backward propagation\n"
   ]
  },
  {
   "cell_type": "markdown",
   "metadata": {},
   "source": [
    "## 0 - Optimization ##\n",
    "\n",
    "Use :help for seeing commands from evcxr.\n",
    "Before any code is executed, use :opt to set the optimization level (until it's set to 2 = speed)"
   ]
  },
  {
   "cell_type": "code",
   "execution_count": 2,
   "metadata": {},
   "outputs": [
    {
     "data": {
      "text/plain": [
       "Optimization: 0"
      ]
     },
     "execution_count": 2,
     "metadata": {},
     "output_type": "execute_result"
    },
    {
     "data": {
      "text/plain": [
       "Optimization: 2"
      ]
     },
     "execution_count": 2,
     "metadata": {},
     "output_type": "execute_result"
    }
   ],
   "source": [
    ":opt\n",
    ":opt"
   ]
  },
  {
   "cell_type": "markdown",
   "metadata": {},
   "source": [
    "## 1 - Packages ##\n",
    "\n",
    "First, let's run the cell below to import all the packages that you will need during this assignment. "
   ]
  },
  {
   "cell_type": "code",
   "execution_count": 3,
   "metadata": {},
   "outputs": [
    {
     "data": {
      "text/plain": [
       "\"done\""
      ]
     },
     "execution_count": 3,
     "metadata": {},
     "output_type": "execute_result"
    }
   ],
   "source": [
    "// Cargo.toml - fine configuration of depedencies (and their versions)\n",
    "// https://github.com/google/evcxr (version = \"0.3.3\" )\n",
    "\n",
    ":dep base64 = \"0.10.1\"\n",
    "\n",
    "// # pacman -S hdf5 \n",
    ":dep hdf5 = \"0.5.1\"\n",
    "// n-dimensional arrays, with serde (de/serialization) and rayon (parallelization) support\n",
    ":dep ndarray = { version = \"0.12\", features = [\"serde-1\"] }\n",
    "// https://docs.rs/ndarray/0.12.1/ndarray/doc/ndarray_for_numpy_users/index.html\n",
    "// https://docs.rs/ndarray/0.12.1/ndarray/struct.ArrayBase.html\n",
    "\n",
    "// image manipulation and display\n",
    ":dep image = \"0.20.1\"\n",
    ":dep evcxr_image = \"1.0.0\"\n",
    "// evcxr_image depends on image ^0.20.0\n",
    "\n",
    "// has useful numeric traits such as \"has a One value\", \"has a Zero value\", etc\n",
    ":dep num-traits = \"0.2.6\"\n",
    "\n",
    ":dep rand = \"0.6.5\"\n",
    "\n",
    "// # pacman -S gnuplot\n",
    ":dep gnuplot = \"0.0.31\"\n",
    "\n",
    ":dep tempfile = \"3.0.7\"\n",
    "\n",
    "\"done\" // this takes ~ 5 minutes to compile"
   ]
  },
  {
   "cell_type": "code",
   "execution_count": 6,
   "metadata": {},
   "outputs": [
    {
     "data": {
      "text/plain": [
       "\"done\""
      ]
     },
     "execution_count": 6,
     "metadata": {},
     "output_type": "execute_result"
    }
   ],
   "source": [
    "// external and scoped libs\n",
    "extern crate base64;\n",
    "extern crate hdf5;\n",
    "extern crate ndarray;\n",
    "extern crate image;\n",
    "extern crate evcxr_image;\n",
    "extern crate num_traits;\n",
    "extern crate rand;\n",
    "extern crate gnuplot;\n",
    "extern crate tempfile;\n",
    "//\n",
    "use ndarray::prelude::*;\n",
    "// <image::RgbImage>::evcxr_display() for image displaying\n",
    "use evcxr_image::ImageDisplay;\n",
    "\"done\""
   ]
  },
  {
   "cell_type": "markdown",
   "metadata": {},
   "source": [
    "---"
   ]
  },
  {
   "cell_type": "markdown",
   "metadata": {},
   "source": [
    "## 2 - Dataset ##\n",
    "\n",
    "First, let's get the dataset you will work on. The following code will load a \"flower\" 2-class dataset into variables `X` and `Y`."
   ]
  },
  {
   "cell_type": "code",
   "execution_count": 14,
   "metadata": {},
   "outputs": [
    {
     "data": {
      "text/plain": [
       "\"done\""
      ]
     },
     "execution_count": 14,
     "metadata": {},
     "output_type": "execute_result"
    }
   ],
   "source": [
    "pub fn load_planar_dataset() -> (Array2<f32>, Array2<f32>) {\n",
    "    let examples = 400;\n",
    "    let class_variants = 2;\n",
    "    let class_points = examples / class_variants;\n",
    "\n",
    "    let mut rng = {\n",
    "        use rand::{rngs::SmallRng, SeedableRng};\n",
    "        SmallRng::seed_from_u64(1)\n",
    "    };\n",
    "\n",
    "    // for x, each row is a single example\n",
    "    // for y, each row is a label (0 for red, 1 for blue)\n",
    "\n",
    "    let (x, y) = (0..class_variants)\n",
    "        .map(|j| {\n",
    "            // each interaction create a new pair of (xi, yi),\n",
    "            // where each is a Array2 of class_points rows\n",
    "            // (and xi has 2 cols, whereas yi only has 1)\n",
    "\n",
    "            use rand::{distributions::StandardNormal, Rng};\n",
    "\n",
    "            let j2 = j + 1;\n",
    "            let t = Array::linspace(j as f32 * 3.12, j2 as f32 * 3.12, class_points)\n",
    "                + Array1::from_shape_fn(class_points, |_| {\n",
    "                    rng.sample(StandardNormal) as f32 * 0.2\n",
    "                });\n",
    "            // assert_eq!((class_points,), t.dim());\n",
    "\n",
    "            let max_ray = 4.0;\n",
    "            let radius = max_ray * t.mapv(|ti| f32::sin(4.0 * ti))\n",
    "                + Array1::from_shape_fn(class_points, |_| {\n",
    "                    rng.sample(StandardNormal) as f32 * 0.2\n",
    "                });\n",
    "\n",
    "            let xi = ndarray::stack(\n",
    "                Axis(0),\n",
    "                &[\n",
    "                    (&radius * &t.mapv(f32::sin))\n",
    "                        .insert_axis(Axis(0)) // row vector\n",
    "                        .view(),\n",
    "                    (&radius * &t.mapv(f32::cos))\n",
    "                        .insert_axis(Axis(0)) // row vector\n",
    "                        .view(),\n",
    "                ],\n",
    "            )\n",
    "            .unwrap();\n",
    "            let yi = Array2::from_elem((1, class_points), j as f32);\n",
    "\n",
    "            assert_eq!((2, class_points), xi.dim());\n",
    "            assert_eq!((1, class_points), yi.dim());\n",
    "            (xi, yi)\n",
    "        })\n",
    "        .fold(\n",
    "            (None, None), // initialization\n",
    "            |(x_acc, y_acc): (Option<Array2<f32>>, Option<Array2<f32>>), (xi, yi)| {\n",
    "                let x_acc = stack_or_clone(x_acc, xi).unwrap();\n",
    "                let y_acc = stack_or_clone(y_acc, yi).unwrap();\n",
    "                (Some(x_acc), Some(y_acc))\n",
    "            },\n",
    "        );\n",
    "    let (x, y) = (x.unwrap().t().to_owned(), y.unwrap().t().to_owned());\n",
    "    assert_eq!((examples, 2), x.dim());\n",
    "    assert_eq!((examples, 1), y.dim());\n",
    "    (x, y)\n",
    "}\n",
    "\n",
    "// given two arrays, stacks them together into a new array\n",
    "// if the first one doesn't exists, just copies the other one\n",
    "pub fn stack_or_clone<T, D>(\n",
    "    acc: Option<Array<T, D>>,\n",
    "    i: Array<T, D>,\n",
    ") -> Result<Array<T, D>, ndarray::ShapeError>\n",
    "where\n",
    "    Array<T, D>: Clone,\n",
    "    T: Copy,\n",
    "    D: ndarray::RemoveAxis,\n",
    "{\n",
    "    acc.map_or(Ok(i.clone()), |acc| {\n",
    "        ndarray::stack(Axis(1), &[acc.view(), i.view()])\n",
    "    })\n",
    "}\n",
    "\n",
    "\"done\""
   ]
  },
  {
   "cell_type": "code",
   "execution_count": 9,
   "metadata": {},
   "outputs": [
    {
     "data": {
      "text/plain": [
       "\"done\""
      ]
     },
     "execution_count": 9,
     "metadata": {},
     "output_type": "execute_result"
    }
   ],
   "source": [
    "let (x, y) = load_planar_dataset();\n",
    "\n",
    "\"done\""
   ]
  },
  {
   "cell_type": "code",
   "execution_count": 10,
   "metadata": {},
   "outputs": [
    {
     "data": {
      "text/plain": [
       "\"done\""
      ]
     },
     "execution_count": 10,
     "metadata": {},
     "output_type": "execute_result"
    }
   ],
   "source": [
    "/// Renders a `gnuplot::Figure` into an `image::RgbImage`.\n",
    "pub fn figure_into_image(figure: &mut gnuplot::Figure) -> image::RgbImage {\n",
    "    // renders and saves the file temporarily\n",
    "    // then loads it\n",
    "    //\n",
    "    // reference:\n",
    "    // https://github.com/SiegeLord/RustGnuplot/issues/32#issuecomment-460082009\n",
    "    let tmp_path = tempfile::TempDir::new().unwrap().into_path();\n",
    "    let file_path = tmp_path.join(\"plot.png\");\n",
    "    figure\n",
    "        .set_terminal(\"pngcairo\", &*file_path.to_string_lossy())\n",
    "        .show()\n",
    "        .close();\n",
    "    let img = image::open(&file_path).unwrap().to_rgb();\n",
    "    std::fs::remove_dir_all(&tmp_path).unwrap();\n",
    "    img\n",
    "}\n",
    "\"done\""
   ]
  },
  {
   "cell_type": "code",
   "execution_count": 11,
   "metadata": {},
   "outputs": [
    {
     "data": {
      "text/plain": [
       "\"done\""
      ]
     },
     "execution_count": 11,
     "metadata": {},
     "output_type": "execute_result"
    }
   ],
   "source": [
    "pub fn filter_by<'a, X, Y>(x: X, y: Y, y_target: u32) -> Vec<f32>\n",
    "where\n",
    "    X: IntoIterator<Item = &'a f32>,\n",
    "    Y: IntoIterator<Item = &'a f32>,\n",
    "{\n",
    "    x.into_iter()\n",
    "        .zip(y)\n",
    "        .filter_map(|(xi, yi)| {\n",
    "            if *yi as u32 == y_target {\n",
    "                Some(xi)\n",
    "            } else {\n",
    "                None\n",
    "            }\n",
    "        })\n",
    "        .cloned()\n",
    "        .collect()\n",
    "}\n",
    "\"done\""
   ]
  },
  {
   "cell_type": "code",
   "execution_count": 12,
   "metadata": {},
   "outputs": [
    {
     "data": {
      "image/png": "[encoded data removed]",
      "text/plain": [
       "()"
      ]
     },
     "execution_count": 12,
     "metadata": {},
     "output_type": "execute_result"
    }
   ],
   "source": [
    "let mut fg = gnuplot::Figure::new();\n",
    "let xt = x.t().to_owned();\n",
    "let yt = y.t().to_owned();\n",
    "\n",
    "let x_x_blue = filter_by(xt.index_axis(Axis(0), 0), yt.index_axis(Axis(0), 0), 1);\n",
    "let x_y_blue = filter_by(xt.index_axis(Axis(0), 1), yt.index_axis(Axis(0), 0), 1);\n",
    "let x_x_red = filter_by(xt.index_axis(Axis(0), 0), yt.index_axis(Axis(0), 0), 0);\n",
    "let x_y_red = filter_by(xt.index_axis(Axis(0), 1), yt.index_axis(Axis(0), 0), 0);\n",
    "\n",
    "fg.axes2d()\n",
    "    .points(x_x_blue, x_y_blue, &[gnuplot::PlotOption::Color(\"blue\")])\n",
    "    .points(x_x_red, x_y_red, &[gnuplot::PlotOption::Color(\"red\")]);\n",
    "let img = figure_into_image(&mut fg);\n",
    "img.evcxr_display()"
   ]
  },
  {
   "cell_type": "markdown",
   "metadata": {},
   "source": [
    "After preprocessing, we will end up with train_x/y and test_x/y.\n",
    "\n",
    "Each line of your train_x and test_x is an array representing an image. You can visualize an example by running the following code. Feel free also to change the `index` value and re-run to see other images. "
   ]
  },
  {
   "cell_type": "code",
   "execution_count": null,
   "metadata": {},
   "outputs": [],
   "source": []
  },
  {
   "cell_type": "code",
   "execution_count": null,
   "metadata": {},
   "outputs": [],
   "source": []
  },
  {
   "cell_type": "code",
   "execution_count": null,
   "metadata": {},
   "outputs": [],
   "source": []
  },
  {
   "cell_type": "markdown",
   "metadata": {},
   "source": [
    "---"
   ]
  },
  {
   "cell_type": "markdown",
   "metadata": {},
   "source": [
    "c"
   ]
  },
  {
   "cell_type": "code",
   "execution_count": null,
   "metadata": {},
   "outputs": [],
   "source": []
  },
  {
   "cell_type": "code",
   "execution_count": null,
   "metadata": {},
   "outputs": [],
   "source": []
  },
  {
   "cell_type": "markdown",
   "metadata": {},
   "source": [
    "---"
   ]
  },
  {
   "cell_type": "markdown",
   "metadata": {},
   "source": [
    "d"
   ]
  },
  {
   "cell_type": "markdown",
   "metadata": {},
   "source": [
    "e"
   ]
  },
  {
   "cell_type": "markdown",
   "metadata": {},
   "source": [
    "f"
   ]
  },
  {
   "cell_type": "code",
   "execution_count": null,
   "metadata": {},
   "outputs": [],
   "source": []
  },
  {
   "cell_type": "code",
   "execution_count": null,
   "metadata": {},
   "outputs": [],
   "source": []
  },
  {
   "cell_type": "code",
   "execution_count": null,
   "metadata": {},
   "outputs": [],
   "source": []
  },
  {
   "cell_type": "markdown",
   "metadata": {},
   "source": [
    "g"
   ]
  },
  {
   "cell_type": "markdown",
   "metadata": {},
   "source": [
    "---"
   ]
  },
  {
   "cell_type": "markdown",
   "metadata": {},
   "source": [
    "h"
   ]
  },
  {
   "cell_type": "markdown",
   "metadata": {},
   "source": [
    "i"
   ]
  },
  {
   "cell_type": "code",
   "execution_count": null,
   "metadata": {},
   "outputs": [],
   "source": []
  },
  {
   "cell_type": "code",
   "execution_count": null,
   "metadata": {},
   "outputs": [],
   "source": []
  },
  {
   "cell_type": "markdown",
   "metadata": {},
   "source": [
    "j"
   ]
  },
  {
   "cell_type": "code",
   "execution_count": null,
   "metadata": {},
   "outputs": [],
   "source": []
  },
  {
   "cell_type": "code",
   "execution_count": null,
   "metadata": {},
   "outputs": [],
   "source": []
  },
  {
   "cell_type": "markdown",
   "metadata": {},
   "source": [
    "k"
   ]
  },
  {
   "cell_type": "markdown",
   "metadata": {},
   "source": [
    "l"
   ]
  },
  {
   "cell_type": "code",
   "execution_count": null,
   "metadata": {},
   "outputs": [],
   "source": []
  },
  {
   "cell_type": "code",
   "execution_count": null,
   "metadata": {},
   "outputs": [],
   "source": []
  },
  {
   "cell_type": "markdown",
   "metadata": {},
   "source": [
    "m"
   ]
  },
  {
   "cell_type": "code",
   "execution_count": null,
   "metadata": {},
   "outputs": [],
   "source": []
  },
  {
   "cell_type": "code",
   "execution_count": null,
   "metadata": {},
   "outputs": [],
   "source": []
  },
  {
   "cell_type": "markdown",
   "metadata": {},
   "source": [
    "n"
   ]
  },
  {
   "cell_type": "code",
   "execution_count": null,
   "metadata": {},
   "outputs": [],
   "source": []
  },
  {
   "cell_type": "code",
   "execution_count": null,
   "metadata": {},
   "outputs": [],
   "source": []
  },
  {
   "cell_type": "markdown",
   "metadata": {},
   "source": [
    "o"
   ]
  },
  {
   "cell_type": "markdown",
   "metadata": {},
   "source": [
    "p"
   ]
  },
  {
   "cell_type": "code",
   "execution_count": null,
   "metadata": {},
   "outputs": [],
   "source": []
  },
  {
   "cell_type": "code",
   "execution_count": null,
   "metadata": {},
   "outputs": [],
   "source": []
  },
  {
   "cell_type": "markdown",
   "metadata": {},
   "source": [
    "q"
   ]
  },
  {
   "cell_type": "code",
   "execution_count": null,
   "metadata": {},
   "outputs": [],
   "source": []
  },
  {
   "cell_type": "code",
   "execution_count": null,
   "metadata": {},
   "outputs": [],
   "source": []
  },
  {
   "cell_type": "markdown",
   "metadata": {},
   "source": [
    "r"
   ]
  },
  {
   "cell_type": "code",
   "execution_count": null,
   "metadata": {},
   "outputs": [],
   "source": []
  },
  {
   "cell_type": "markdown",
   "metadata": {},
   "source": [
    "s"
   ]
  },
  {
   "cell_type": "markdown",
   "metadata": {},
   "source": [
    "t"
   ]
  },
  {
   "cell_type": "markdown",
   "metadata": {},
   "source": [
    "u"
   ]
  },
  {
   "cell_type": "code",
   "execution_count": null,
   "metadata": {},
   "outputs": [],
   "source": []
  },
  {
   "cell_type": "markdown",
   "metadata": {},
   "source": [
    "v"
   ]
  },
  {
   "cell_type": "markdown",
   "metadata": {},
   "source": [
    "w"
   ]
  },
  {
   "cell_type": "code",
   "execution_count": null,
   "metadata": {},
   "outputs": [],
   "source": []
  },
  {
   "cell_type": "markdown",
   "metadata": {},
   "source": [
    "x"
   ]
  },
  {
   "cell_type": "markdown",
   "metadata": {},
   "source": [
    "y"
   ]
  },
  {
   "cell_type": "markdown",
   "metadata": {},
   "source": [
    "z"
   ]
  },
  {
   "cell_type": "code",
   "execution_count": 13,
   "metadata": {},
   "outputs": [
    {
     "data": {
      "text/plain": [
       "\"end of C1W3\""
      ]
     },
     "execution_count": 13,
     "metadata": {},
     "output_type": "execute_result"
    }
   ],
   "source": [
    "\"end of C1W3\""
   ]
  },
  {
   "cell_type": "code",
   "execution_count": null,
   "metadata": {},
   "outputs": [],
   "source": []
  }
 ],
 "metadata": {
  "kernelspec": {
   "display_name": "Rust",
   "language": "rust",
   "name": "rust"
  },
  "language_info": {
   "codemirror_mode": "rust",
   "file_extension": ".rs",
   "mimetype": "text/rust",
   "name": "Rust",
   "pygment_lexer": "rust",
   "version": ""
  }
 },
 "nbformat": 4,
 "nbformat_minor": 2
}
