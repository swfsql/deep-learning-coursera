{
 "cells": [
  {
   "cell_type": "markdown",
   "metadata": {},
   "source": [
    "---\n",
    ">Disclaimer:  \n",
    ">I did not paid and do not own any of the this.  \n",
    ">All of the material were found on youtube or in other Github projects - including the code solutions.\n",
    ">\n",
    ">Youtube resources:\n",
    ">- C1W1L1 ~ C1W2L18 - https://www.youtube.com/watch?v=CS4cs9xVecg&list=PLkDaE6sCZn6Ec-XTbcX1uRg2_u4xOEky0&index=1\n",
    ">- Lecture 1 - Class Introduction and Logistics - https://www.youtube.com/watch?v=PySo_6S4ZAg&list=PLoROMvodv4rOABXSygHTsbvUz4G_YQhOb\n",
    ">\n",
    ">Github project resources:\n",
    ">- https://github.com/Kulbear/deep-learning-coursera (main notebook + solutions)\n",
    ">- https://github.com/andersy005/deep-learning-specialization-coursera (datasets)\n",
    ">\n",
    ">What I did:\n",
    ">Learnt about this subject by re-implementing the solutions in another language (Rust - https://github.com/google/evcxr/tree/master/evcxr_jupyter).  \n",
    ">Some aspects of the solutions are different (longer, slower) because this is an opportunity (for me) to better understand the concepts.  \n",
    ">For this reason, sometimes I changed terms, names or relations from the original text in order to better correspond to my acutual re-implementation.  \n",
    ">(To sum it up, this is \"exploratory exercise\", not \"serious implementation\")\n",
    "\n",
    "---"
   ]
  },
  {
   "cell_type": "markdown",
   "metadata": {},
   "source": [
    "# Logistic Regression with a Neural Network mindset\n",
    "\n",
    "Welcome to your first (required) programming assignment! You will build a logistic regression classifier to recognize  cats. This assignment will step you through how to do this with a Neural Network mindset, and so will also hone your intuitions about deep learning.\n",
    "\n",
    "**Instructions:**\n",
    "- Do not use loops (for/while) in your code, unless the instructions explicitly ask you to do so.\n",
    "\n",
    "**You will learn to:**\n",
    "- Build the general architecture of a learning algorithm, including:\n",
    "    - Initializing parameters\n",
    "    - Calculating the cost function and its gradient\n",
    "    - Using an optimization algorithm (gradient descent) \n",
    "- Gather all three functions above into a main model function, in the right order."
   ]
  },
  {
   "cell_type": "markdown",
   "metadata": {},
   "source": [
    "## 0 - Optimization ##\n",
    "\n",
    "Use :help for seeing commands from evcxr.\n",
    "Before any code is executed, use :opt to set the optimization level (until it's set to 2 = speed)"
   ]
  },
  {
   "cell_type": "code",
   "execution_count": 2,
   "metadata": {},
   "outputs": [
    {
     "data": {
      "text/plain": [
       "Optimization: 0"
      ]
     },
     "execution_count": 2,
     "metadata": {},
     "output_type": "execute_result"
    },
    {
     "data": {
      "text/plain": [
       "Optimization: 2"
      ]
     },
     "execution_count": 2,
     "metadata": {},
     "output_type": "execute_result"
    }
   ],
   "source": [
    ":opt\n",
    ":opt"
   ]
  },
  {
   "cell_type": "markdown",
   "metadata": {},
   "source": [
    "## 1 - Packages ##\n",
    "\n",
    "First, let's run the cell below to import all the packages that you will need during this assignment. "
   ]
  },
  {
   "cell_type": "code",
   "execution_count": 3,
   "metadata": {},
   "outputs": [
    {
     "data": {
      "text/plain": [
       "\"done\""
      ]
     },
     "execution_count": 3,
     "metadata": {},
     "output_type": "execute_result"
    }
   ],
   "source": [
    "// Cargo.toml - fine configuration of depedencies (and their versions)\n",
    "// https://github.com/google/evcxr (version = \"0.3.3\" )\n",
    "\n",
    ":dep base64 = \"0.10.1\"\n",
    "\n",
    "// # pacman -S hdf5 \n",
    ":dep hdf5 = \"0.5.1\"\n",
    "// n-dimensional arrays, with serde (de/serialization) and rayon (parallelization) support\n",
    ":dep ndarray = { version = \"0.12\", features = [\"serde-1\"] }\n",
    "// https://docs.rs/ndarray/0.12.1/ndarray/doc/ndarray_for_numpy_users/index.html\n",
    "// https://docs.rs/ndarray/0.12.1/ndarray/struct.ArrayBase.html\n",
    "\n",
    "// image manipulation and display\n",
    ":dep image = \"0.20.1\"\n",
    ":dep evcxr_image = \"1.0.0\"\n",
    "// evcxr_image depends on image ^0.20.0\n",
    "\n",
    "// has useful numeric traits such as \"has a One value\", \"has a Zero value\", etc\n",
    ":dep num-traits = \"0.2.6\"\n",
    "\n",
    "\"done\" // this takes ~ 5 minutes to compile"
   ]
  },
  {
   "cell_type": "code",
   "execution_count": 4,
   "metadata": {},
   "outputs": [
    {
     "data": {
      "text/plain": [
       "\"done\""
      ]
     },
     "execution_count": 4,
     "metadata": {},
     "output_type": "execute_result"
    }
   ],
   "source": [
    "// external and scoped libs\n",
    "extern crate base64;\n",
    "extern crate hdf5;\n",
    "extern crate ndarray;\n",
    "extern crate image;\n",
    "extern crate evcxr_image;\n",
    "extern crate num_traits;\n",
    "\"done\""
   ]
  },
  {
   "cell_type": "markdown",
   "metadata": {},
   "source": [
    "---"
   ]
  },
  {
   "cell_type": "markdown",
   "metadata": {},
   "source": [
    "## 2 - Overview of the Problem set ##\n",
    "\n",
    "**Problem Statement**: You are given a dataset (\"datasets/train_catvnoncat.h5\") containing:\n",
    "    - a training set of m_train images labeled as cat (y=1) or non-cat (y=0)\n",
    "    - a test set of m_test images labeled as cat or non-cat\n",
    "    - each image is of shape (num_px, num_px, 3) where 3 is for the 3 channels (RGB). Thus, each image is square (height = num_px) and (width = num_px).\n",
    "\n",
    "You will build a simple image-recognition algorithm that can correctly classify pictures as cat or non-cat.\n",
    "\n",
    "Let's get more familiar with the dataset. Load the data by running the following code."
   ]
  },
  {
   "cell_type": "code",
   "execution_count": 5,
   "metadata": {},
   "outputs": [
    {
     "data": {
      "text/plain": [
       "\"done\""
      ]
     },
     "execution_count": 5,
     "metadata": {},
     "output_type": "execute_result"
    }
   ],
   "source": [
    "// scope import\n",
    "use ndarray::prelude::*;\n",
    "\"done\""
   ]
  },
  {
   "cell_type": "code",
   "execution_count": 6,
   "metadata": {},
   "outputs": [
    {
     "data": {
      "text/plain": [
       "\"done\""
      ]
     },
     "execution_count": 6,
     "metadata": {},
     "output_type": "execute_result"
    }
   ],
   "source": [
    "// structures definition and conversion implementations\n",
    "// this is an optional Rust stuff that I decided to try and see how much overhead this would cause\n",
    "// (instead of working with u8 data directly, I decided to convert triples into a Color structure)\n",
    "\n",
    "#[derive(hdf5::H5Type, Clone, PartialEq, Debug)]\n",
    "#[repr(C)]\n",
    "pub struct Color {\n",
    "    pub red: u8,\n",
    "    pub green: u8,\n",
    "    pub blue: u8,\n",
    "}\n",
    "\n",
    "#[derive(hdf5::H5Type, Clone, PartialEq, Debug)]\n",
    "#[repr(u8)]\n",
    "pub enum Class {\n",
    "    NotCat = 0,\n",
    "    Cat = 1,\n",
    "}\n",
    "\n",
    "impl From<&[u8]> for Color {\n",
    "    fn from(rgb: &[u8]) -> Self {\n",
    "        match rgb {\n",
    "            &[red, green, blue] => Color {red, green, blue},\n",
    "            otherwise => panic!(\"incorrect color u8 len {}, expected {} (rgb)\",\n",
    "                otherwise.len(), \n",
    "                3\n",
    "            ),\n",
    "        }\n",
    "    }\n",
    "}\n",
    "impl From<ArrayView1<'_, u8>> for Color {\n",
    "    fn from(rgb: ArrayView1<'_, u8>) -> Self {\n",
    "        match rgb.as_slice()\n",
    "            .or_else(|| rgb.as_slice_memory_order())\n",
    "            .or_else(|| rgb.into_slice()) {\n",
    "            Some(slice) => Color::from(slice),\n",
    "            None => {\n",
    "                // extra allocation is needed\n",
    "                // because memory layout wasn't contiguous\n",
    "                // or wasn't standard\n",
    "                let rgb = rgb.to_vec(); \n",
    "                Color::from(rgb.as_slice())\n",
    "            }\n",
    "        }\n",
    "    }\n",
    "}\n",
    "impl From<(u8, u8, u8)> for Color {\n",
    "    fn from((red, green, blue): (u8, u8, u8)) -> Self {\n",
    "        Color { red, green, blue }\n",
    "    }\n",
    "}\n",
    "\n",
    "impl From<&u8> for Class {\n",
    "    fn from(may_cat: &u8) -> Self {\n",
    "        match may_cat {\n",
    "            0 => Class::NotCat,\n",
    "            1 => Class::Cat,\n",
    "            other => panic!(\"unexpected Cat label {}: should be 0 or 1\", other),\n",
    "        }\n",
    "    }\n",
    "}\n",
    "\n",
    "\"done\""
   ]
  },
  {
   "cell_type": "code",
   "execution_count": 7,
   "metadata": {},
   "outputs": [
    {
     "data": {
      "text/plain": [
       "\"done\""
      ]
     },
     "execution_count": 7,
     "metadata": {},
     "output_type": "execute_result"
    }
   ],
   "source": [
    "let (train_x, train_y) = {\n",
    "    let file = hdf5::File::open(\"datasets/train_catvnoncat.h5\", \"r\")\n",
    "        .unwrap();\n",
    "\n",
    "    let x = file.dataset(\"train_set_x\")\n",
    "        .unwrap()\n",
    "        .read::<u8, Ix4>() // shape = [209, 64, 64, 3], element = u8\n",
    "        .unwrap()\n",
    "        .lanes(Axis(3))\n",
    "        .into_iter()\n",
    "        .map(Color::from)\n",
    "        .collect::<Vec<Color>>();\n",
    "    let x = ArrayView::<Color, _>\n",
    "        ::from_shape((209, 64, 64), &x) // shape = [209, 64, 64], element = Color\n",
    "        .unwrap();\n",
    "\n",
    "    \n",
    "    let y = file.dataset(\"train_set_y\")\n",
    "        .unwrap()\n",
    "        .read::<u8, Ix1>() // shape = [209], element = u8\n",
    "        .unwrap()\n",
    "        .into_iter()\n",
    "        .map(Class::from)\n",
    "        .collect::<Vec<Class>>();\n",
    "    let y = ArrayView::<Class, _>\n",
    "        ::from_shape((209,), &y) // shape = [209], element = Class\n",
    "        .unwrap();\n",
    "    (x.to_owned(), y.to_owned())\n",
    "};\n",
    "\n",
    "let (test_x, test_y) = {\n",
    "    let file = hdf5::File::open(\"datasets/test_catvnoncat.h5\", \"r\")\n",
    "        .unwrap();\n",
    "\n",
    "    let x = file.dataset(\"test_set_x\")\n",
    "        .unwrap()\n",
    "        .read::<u8, Ix4>() // shape = [50, 64, 64, 3], element = u8\n",
    "        .unwrap()\n",
    "        .lanes(Axis(3))\n",
    "        .into_iter()\n",
    "        .map(Color::from)\n",
    "        .collect::<Vec<Color>>();\n",
    "    let x = ArrayView::<Color, _>\n",
    "        ::from_shape((50, 64, 64), &x)  // shape = [50, 64, 64], element = Color\n",
    "        .unwrap();\n",
    "\n",
    "    let y = file.dataset(\"test_set_y\")\n",
    "        .unwrap()\n",
    "        .read::<u8, Ix1>() // shape = [50], element = u8\n",
    "        .unwrap()\n",
    "        .into_iter()\n",
    "        .map(Class::from)\n",
    "        .collect::<Vec<Class>>();\n",
    "    let y = ArrayView::<Class, _>\n",
    "        ::from_shape((50,), &y) // shape = [50], element = Class\n",
    "        .unwrap();\n",
    "    (x.to_owned(), y.to_owned())\n",
    "};\n",
    "\"done\""
   ]
  },
  {
   "cell_type": "markdown",
   "metadata": {},
   "source": [
    "After preprocessing, we will end up with train_x/y and test_x/y.\n",
    "\n",
    "Each line of your train_x and test_x is an array representing an image. You can visualize an example by running the following code. Feel free also to change the `index` value and re-run to see other images. "
   ]
  },
  {
   "cell_type": "code",
   "execution_count": 8,
   "metadata": {},
   "outputs": [
    {
     "data": {
      "text/plain": [
       "\"done\""
      ]
     },
     "execution_count": 8,
     "metadata": {},
     "output_type": "execute_result"
    }
   ],
   "source": [
    "// scoped traits/structs/etc\n",
    "// <image::RgbImage>::evcxr_display() for image displaying\n",
    "use evcxr_image::ImageDisplay;\n",
    "\"done\""
   ]
  },
  {
   "cell_type": "code",
   "execution_count": 9,
   "metadata": {},
   "outputs": [
    {
     "data": {
      "image/png": "[encoded data removed]",
      "text/plain": [
       "()"
      ]
     },
     "execution_count": 9,
     "metadata": {},
     "output_type": "execute_result"
    }
   ],
   "source": [
    "// one image display\n",
    "let index = 25;\n",
    "let (width, height) = (64, 64);\n",
    "\n",
    "let img_subview = train_x.index_axis(Axis(0), index).to_owned();\n",
    "use ndarray::s; // slice macro\n",
    "\n",
    "// test image displaying\n",
    "let img = image::ImageBuffer::from_fn(width, height, |x, y| {\n",
    "    let color = img_subview.slice(s![y as usize, x as usize]).to_owned(); // shape: [] (zero-dimension), element = Color.\n",
    "    // so this is not an actual array, but a single element. But we treat as an array anyway and get the \"first\" element.\n",
    "    let color = &color.as_slice().unwrap()[0];\n",
    "    image::Rgb([color.red, color.green, color.blue])\n",
    "});\n",
    "\n",
    "img.evcxr_display() // the only output on the cell must be a single image"
   ]
  },
  {
   "cell_type": "code",
   "execution_count": 10,
   "metadata": {},
   "outputs": [
    {
     "name": "stdout",
     "output_type": "stream",
     "text": [
      "index 25 is a Cat image\n"
     ]
    },
    {
     "data": {
      "text/plain": [
       "\"done nyaa!\""
      ]
     },
     "execution_count": 10,
     "metadata": {},
     "output_type": "execute_result"
    }
   ],
   "source": [
    "let index_y = train_y\n",
    "    .index_axis(Axis(0), index)\n",
    "    .as_slice()\n",
    "    .unwrap()[0]\n",
    "    .clone();\n",
    "println!(\"index {} is a {:?} image\", index, index_y.clone());\n",
    "match index_y {\n",
    "    Class::Cat => \"done nyaa!\",\n",
    "    Class::NotCat => \"done\",\n",
    "}"
   ]
  },
  {
   "cell_type": "markdown",
   "metadata": {},
   "source": [
    "---"
   ]
  },
  {
   "cell_type": "markdown",
   "metadata": {},
   "source": [
    "Many software bugs in deep learning come from having matrix/vector dimensions that don't fit. If you can keep your matrix/vector dimensions straight you will go a long way toward eliminating many bugs. \n",
    "\n",
    "**Exercise:** Find the values for:\n",
    "    - m_train (number of training examples)\n",
    "    - m_test (number of test examples)\n",
    "    - num_px (= height = width of a training image)\n",
    "Remember that `train_set_x_orig` is a numpy-array of shape (m_train, num_px, num_px, 3). For instance, you can access `m_train` by writing `train_set_x_orig.shape[0]`."
   ]
  },
  {
   "cell_type": "code",
   "execution_count": 11,
   "metadata": {},
   "outputs": [
    {
     "data": {
      "text/plain": [
       "\"done\""
      ]
     },
     "execution_count": 11,
     "metadata": {},
     "output_type": "execute_result"
    }
   ],
   "source": [
    "let m_train = train_y.shape()[0];\n",
    "let m_test = test_y.shape()[0];\n",
    "let num_px = train_x.shape()[1];\n",
    "\"done\""
   ]
  },
  {
   "cell_type": "code",
   "execution_count": 12,
   "metadata": {},
   "outputs": [
    {
     "name": "stdout",
     "output_type": "stream",
     "text": [
      "Number of training examples: m_train = 209\n",
      "Number of testing examples: m_test = 50\n",
      "Height/Width of each image: num_px = 64\n",
      "Each image is of size: (64, 64, 1) (as Colors)\n",
      "Each image is of size: (64, 64, 3) (as bytes)\n",
      "train_x shape: [209, 64, 64]\n",
      "train_y shape: [209]\n",
      "test_x shape: [50, 64, 64]\n",
      "test_y shape: [50]\n"
     ]
    },
    {
     "data": {
      "text/plain": [
       "\"done\""
      ]
     },
     "execution_count": 12,
     "metadata": {},
     "output_type": "execute_result"
    }
   ],
   "source": [
    "println!(\"Number of training examples: m_train = {}\", m_train);\n",
    "println!(\"Number of testing examples: m_test = {}\", m_test);\n",
    "println!(\"Height/Width of each image: num_px = {}\", num_px);\n",
    "println!(\"Each image is of size: ({}, {}, {}) (as Colors)\", num_px, num_px, 1);\n",
    "println!(\"Each image is of size: ({}, {}, {}) (as bytes)\", num_px, num_px, <Color as hdf5::H5Type>::type_descriptor().size());\n",
    "println!(\"train_x shape: {:?}\", train_x.shape());\n",
    "println!(\"train_y shape: {:?}\", train_y.shape());\n",
    "println!(\"test_x shape: {:?}\", test_x.shape());\n",
    "println!(\"test_y shape: {:?}\", test_y.shape());\n",
    "\"done\""
   ]
  },
  {
   "cell_type": "markdown",
   "metadata": {},
   "source": [
    "---"
   ]
  },
  {
   "cell_type": "markdown",
   "metadata": {},
   "source": [
    "For convenience, you should now reshape images of shape (height, width)(of Color elements) into a shape (height * width * 3)(of f32 elements). After this, our training (and test) dataset is a ndarray where each column represents a flattened image. Then there should be m_train (respectively m_test) columns - each for a different train set.\n",
    "\n",
    "**Exercise:** Reshape the training/test data sets so that images of size (num_set, height, width)(of Color elements) are flattened into single vectors of shape (height * width * 3, num_set)(of f32 elements).\n",
    "\n",
    "A trick when you want to flatten a matrix X of shape (a,b,c,d) to a matrix X_flatten of shape (b * c * d, a) is to view the matrix through the a Axis (b, c, d, a)(of Color) and then reshape it from a normal iteration."
   ]
  },
  {
   "cell_type": "markdown",
   "metadata": {},
   "source": [
    "> (I antecipated the u8 -> f32 conversion for color information)"
   ]
  },
  {
   "cell_type": "markdown",
   "metadata": {},
   "source": [
    "To represent color images, the red, green and blue channels (RGB) must be specified for each pixel, and so the pixel value is actually a vector of three numbers ranging from 0 to 255.\n",
    "\n",
    "One common preprocessing step in machine learning is to center and standardize your dataset, meaning that you substract the mean of the whole numpy array from each example, and then divide each example by the standard deviation of the whole numpy array. But for picture datasets, it is simpler and more convenient and works almost as well to just divide every row of the dataset by 255 (the maximum value of a pixel channel).\n",
    "\n",
    "<!-- During the training of your model, you're going to multiply weights and add biases to some initial inputs in order to observe neuron activations. Then you backpropogate with the gradients to train the model. But, it is extremely important for each feature to have a similar range such that our gradients don't explode. You will see that more in detail later in the lectures. !--> \n",
    "\n",
    "Let's standardize our dataset."
   ]
  },
  {
   "cell_type": "code",
   "execution_count": 13,
   "metadata": {},
   "outputs": [
    {
     "data": {
      "text/plain": [
       "\"done\""
      ]
     },
     "execution_count": 13,
     "metadata": {},
     "output_type": "execute_result"
    }
   ],
   "source": [
    "let (train_x_flat, test_x_flat) = {\n",
    "    let train = train_x // shape = [209, 64, 64], element = Color\n",
    "        .lanes(Axis(0))\n",
    "        .into_iter()\n",
    "        .flat_map(|sets_color| {\n",
    "            let (reds, greens, blues) = sets_color\n",
    "                .iter()\n",
    "                .map(|color| (\n",
    "                    color.red.clone() as f32 / 255.0,\n",
    "                    color.green.clone() as f32 / 255.0,\n",
    "                    color.blue.clone() as f32 / 255.0,\n",
    "                ))\n",
    "                .fold((Vec::new(), Vec::new(), Vec::new()), \n",
    "                    |(mut reds, mut greens, mut blues), \n",
    "                        (red, green, blue)| {\n",
    "                    reds.push(red);\n",
    "                    greens.push(green);\n",
    "                    blues.push(blue);\n",
    "                    (reds, greens, blues)\n",
    "                });\n",
    "            let mut serial = reds;\n",
    "            serial.extend(greens);\n",
    "            serial.extend(blues);\n",
    "            serial\n",
    "        })\n",
    "        .collect::<Vec<f32>>(); // len = 209 * 64 * 64 * 3 = 2568192\n",
    "        // layout of a single line: red_0, red_1, ..., red_208, green_1, green_2, ..., green_208, ..., blue_1, blue_2, ... blue_208\n",
    "        // each line information is from one pixel of each image, localized at the same location on each image\n",
    "    let train = ArrayView::<f32, _>\n",
    "        ::from_shape((64 * 64 * 3, 209), &train) // shape = [64 * 64 * 3, 209], element = f32 (0.0~1.0)\n",
    "        .unwrap();\n",
    "\n",
    "    let test = test_x // shape = [50, 64, 64], element = Color\n",
    "        .lanes(Axis(0))\n",
    "        .into_iter()\n",
    "        // iterating over 1 pixel color from each test\n",
    "        .flat_map(|sets_color| {\n",
    "            let (reds, greens, blues) = sets_color\n",
    "                .iter()\n",
    "                .map(|color| (\n",
    "                    color.red.clone() as f32 / 255.0,\n",
    "                    color.green.clone() as f32 / 255.0,\n",
    "                    color.blue.clone() as f32 / 255.0,\n",
    "                ))\n",
    "                .fold((Vec::new(), Vec::new(), Vec::new()), \n",
    "                    |(mut reds, mut greens, mut blues), \n",
    "                        (red, green, blue)| {\n",
    "                    reds.push(red);\n",
    "                    greens.push(green);\n",
    "                    blues.push(blue);\n",
    "                    (reds, greens, blues)\n",
    "                });\n",
    "            let mut serial = reds;\n",
    "            serial.extend(greens);\n",
    "            serial.extend(blues);\n",
    "            serial\n",
    "        })\n",
    "        .collect::<Vec<f32>>(); // len = 50 * 64 * 64 * 3 = 614400\n",
    "        // layout of a single line: red_0, red_1, ..., red_49, green_1, green_2, ..., green_49, ..., blue_1, blue_2, ... blue_49\n",
    "        // each line information is from one pixel of each image, localized at the same location on each image\n",
    "    let test = ArrayView::<f32, _>\n",
    "        ::from_shape((64 * 64 * 3, 50), &test) // shape = [64 * 64 * 3, 50], element = f32 (0.0~1.0)\n",
    "        .unwrap();\n",
    "        \n",
    "    (train.to_owned(), test.to_owned())\n",
    "};\n",
    "\"done\""
   ]
  },
  {
   "cell_type": "code",
   "execution_count": 14,
   "metadata": {},
   "outputs": [
    {
     "data": {
      "text/plain": [
       "\"done\""
      ]
     },
     "execution_count": 14,
     "metadata": {},
     "output_type": "execute_result"
    }
   ],
   "source": [
    "// outputs (y) are structured in enum (Class), but they should be transformed back to a \"rawer\" data (such as u8)\n",
    "// outputs are also one dimensional, but the algo requires that they are a 2D Matrix\n",
    "\n",
    "// shape: [209], element = Class\n",
    "let train_y = train_y.map(|class| match class {\n",
    "    Class::Cat => 1u8,\n",
    "    Class::NotCat => 0u8,\n",
    "});\n",
    "let train_y = train_y.insert_axis(Axis(0)).to_owned(); // shape: [1, 209], element = u8\n",
    "\n",
    "\n",
    "// shape: [20209], element = Class\n",
    "let test_y = test_y.map(|class| match class {\n",
    "    Class::Cat => 1u8,\n",
    "    Class::NotCat => 0u8,\n",
    "});\n",
    "let test_y = test_y.insert_axis(Axis(0)).to_owned(); // shape: [1, 50], element = u8\n",
    "\n",
    "// so now both inputs (x) and outputs (y) are 2DMatrices with the same ammount of columns\n",
    "\n",
    "\"done\""
   ]
  },
  {
   "cell_type": "code",
   "execution_count": 15,
   "metadata": {},
   "outputs": [
    {
     "name": "stdout",
     "output_type": "stream",
     "text": [
      "train_x_flat shape: [12288, 209]\n",
      "train_y shape: [1, 209]\n",
      "test_x_flat shape: [12288, 50]\n",
      "test_y shape: [1, 50]\n",
      "sanity check after reshaping: [0.06666667, 0.12156863, 0.21960784, 0.08627451, 0.12941177] shape=[5], strides=[209], layout=Custom (0x0), const ndim=1\n"
     ]
    },
    {
     "data": {
      "text/plain": [
       "\"done\""
      ]
     },
     "execution_count": 15,
     "metadata": {},
     "output_type": "execute_result"
    }
   ],
   "source": [
    "println!(\"train_x_flat shape: {:?}\", train_x_flat.shape());\n",
    "println!(\"train_y shape: {:?}\", train_y.shape());\n",
    "println!(\"test_x_flat shape: {:?}\", test_x_flat.shape());\n",
    "println!(\"test_y shape: {:?}\", test_y.shape());\n",
    "println!(\"sanity check after reshaping: {:?}\", train_x_flat.slice(s![0..5, 0]));\n",
    "\"done\""
   ]
  },
  {
   "cell_type": "markdown",
   "metadata": {},
   "source": [
    "What you need to remember:\n",
    "\n",
    "Common steps for pre-processing a new dataset are:\n",
    "- Figure out the dimensions and shapes of the problem (m_train, m_test, num_px, ...)\n",
    "- Reshape the datasets such that each example is now a vector of size (num_px \\* num_px \\* 3, 1)\n",
    "- \"Standardize\" the data"
   ]
  },
  {
   "cell_type": "markdown",
   "metadata": {},
   "source": [
    "---"
   ]
  },
  {
   "cell_type": "markdown",
   "metadata": {},
   "source": [
    "## 3 - General Architecture of the learning algorithm ##\n",
    "\n",
    "It's time to design a simple algorithm to distinguish cat images from non-cat images.\n",
    "\n",
    "You will build a Logistic Regression, using a Neural Network mindset. The following Figure explains why **Logistic Regression is actually a very simple Neural Network!**\n",
    "\n",
    "<img src=\"images/LogReg_kiank.png\" style=\"width:650px;height:400px;\">\n",
    "\n",
    "**Mathematical expression of the algorithm**:\n",
    "\n",
    "For one example $x^{(i)}$:\n",
    "$$z^{(i)} = w^T x^{(i)} + b \\tag{1}$$\n",
    "$$\\hat{y}^{(i)} = a^{(i)} = sigmoid(z^{(i)})\\tag{2}$$ \n",
    "$$ \\mathcal{L}(a^{(i)}, y^{(i)}) =  - y^{(i)}  \\log(a^{(i)}) - (1-y^{(i)} )  \\log(1-a^{(i)})\\tag{3}$$\n",
    "\n",
    "The cost is then computed by summing over all training examples:\n",
    "$$ J = \\frac{1}{m} \\sum_{i=1}^m \\mathcal{L}(a^{(i)}, y^{(i)})\\tag{6}$$\n",
    "\n",
    "**Key steps**:\n",
    "In this exercise, you will carry out the following steps: \n",
    "    - Initialize the parameters of the model\n",
    "    - Learn the parameters for the model by minimizing the cost  \n",
    "    - Use the learned parameters to make predictions (on the test set)\n",
    "    - Analyse the results and conclude\n",
    "\n",
    "---"
   ]
  },
  {
   "cell_type": "markdown",
   "metadata": {},
   "source": [
    "## 4 - Building the parts of our algorithm ## \n",
    "\n",
    "The main steps for building a Neural Network are:\n",
    "1. Define the model structure (such as number of input features) \n",
    "2. Initialize the model's parameters\n",
    "3. Loop:\n",
    "    - Calculate current loss (forward propagation)\n",
    "    - Calculate current gradient (backward propagation)\n",
    "    - Update parameters (gradient descent)\n",
    "\n",
    "You often build 1-3 separately and integrate them into one function we call `model()`.\n",
    "\n",
    "### 4.1 - Helper functions\n",
    "\n",
    "**Exercise**: Using your code from \"Python Basics\", implement `sigmoid()`. As you've seen in the figure above, you need to compute $sigmoid( w^T x + b)$ to make predictions."
   ]
  },
  {
   "cell_type": "code",
   "execution_count": 16,
   "metadata": {},
   "outputs": [
    {
     "data": {
      "text/plain": [
       "\"done\""
      ]
     },
     "execution_count": 16,
     "metadata": {},
     "output_type": "execute_result"
    }
   ],
   "source": [
    "/// Has `e^self` method.\n",
    "pub trait Exp {\n",
    "    /// The output of the computation.\n",
    "    type Output;\n",
    "\n",
    "    /// Computes `e^self`.\n",
    "    fn exp(self) -> Self::Output;\n",
    "}\n",
    "\n",
    "impl Exp for f32 {\n",
    "    type Output = Self;\n",
    "    fn exp(self) -> Self::Output {\n",
    "        Self::exp(self) // calls f32::exp\n",
    "    }\n",
    "}\n",
    "impl Exp for f64 {\n",
    "    type Output = Self;\n",
    "    fn exp(self) -> Self::Output {\n",
    "        Self::exp(self) // calls f64::exp\n",
    "    }\n",
    "}\n",
    "\n",
    "use num_traits::{One, Zero, Inv};\n",
    "use std::ops;\n",
    "\n",
    "/// Has `1 / (1 + e^(-self))` method.\n",
    "pub trait Sigmoid {\n",
    "    /// calculates `1 / (1 + e^(-self))`.\n",
    "    fn sigmoid(self) -> Self;\n",
    "    \n",
    "}\n",
    "\n",
    "// implements for all types that meet the requirements.\n",
    "// note that the output of `-self` does not need to be of type Self\n",
    "// similarly, the output of e^(-self) does not need to be of type Self\n",
    "// similarly, the output of (e^(-self) + 1) does not need to be of type Self\n",
    "// but and finally, the output of (1 / (e^(-self) + 1)) DOES NEED to be of type Self\n",
    "impl<T> Sigmoid for T\n",
    "where T: Sized + ops::Neg,\n",
    "    <Self as ops::Neg>\n",
    "        ::Output: Exp, \n",
    "    <<Self as ops::Neg>\n",
    "        ::Output as Exp>\n",
    "            ::Output: One + ops::Add,\n",
    "    <<<Self as ops::Neg>\n",
    "        ::Output as Exp>\n",
    "            ::Output as ops::Add>\n",
    "                ::Output: Inv<Output = Self>,\n",
    "{\n",
    "    fn sigmoid(self) -> Self {\n",
    "        let neg: <Self as ops::Neg>\n",
    "            ::Output \n",
    "            = ops::Neg::neg(self);\n",
    "        let exp: <<Self as ops::Neg>\n",
    "            ::Output as Exp>\n",
    "                ::Output\n",
    "            = Exp::exp(neg);\n",
    "        let add: <<<Self as ops::Neg>\n",
    "            ::Output as Exp>\n",
    "                ::Output as ops::Add>\n",
    "                    ::Output\n",
    "            = exp + One::one();\n",
    "        add.inv()\n",
    "    }\n",
    "}\n",
    "\"done\""
   ]
  },
  {
   "cell_type": "code",
   "execution_count": 17,
   "metadata": {},
   "outputs": [
    {
     "name": "stdout",
     "output_type": "stream",
     "text": [
      "sigmoid(0.0) = (f32) 0.5\n",
      "sigmoid(0.0) = (f64) 0.5\n",
      "sigmoid(9.2) = (f32) 0.9998989\n",
      "sigmoid(9.2) = (f64) 0.9998989708060922\n",
      "---\n",
      "sigmoid(+16) = (f32) 0.9999999\n",
      "sigmoid(+16) = (f64) 0.9999998874648379\n",
      "sigmoid(+17) = (f32) 1\n",
      "sigmoid(+17) = (f64) 0.9999999586006244\n",
      "---\n",
      "sigmoid(-88) = (f32) 0.000000000000000000000000000000000000006054601\n",
      "sigmoid(-88) = (f64) 0.000000000000000000000000000000000000006054601895401186\n",
      "sigmoid(-89) = (f32) 0\n",
      "sigmoid(-89) = (f64) 0.0000000000000000000000000000000000000022273635617957434\n"
     ]
    },
    {
     "data": {
      "text/plain": [
       "\"done\""
      ]
     },
     "execution_count": 17,
     "metadata": {},
     "output_type": "execute_result"
    }
   ],
   "source": [
    "println!(\"sigmoid(0.0) = (f32) {}\", 0f32.sigmoid());\n",
    "println!(\"sigmoid(0.0) = (f64) {}\", 0f64.sigmoid());\n",
    "println!(\"sigmoid(9.2) = (f32) {}\", f32::sigmoid(9.2));\n",
    "println!(\"sigmoid(9.2) = (f64) {}\", f64::sigmoid(9.2));\n",
    "println!(\"---\");\n",
    "println!(\"sigmoid(+16) = (f32) {}\", f32::sigmoid(16.0));\n",
    "println!(\"sigmoid(+16) = (f64) {}\", f64::sigmoid(16.0));\n",
    "println!(\"sigmoid(+17) = (f32) {}\", f32::sigmoid(17.0)); // around +17 = maximum f32 positive range\n",
    "println!(\"sigmoid(+17) = (f64) {}\", f64::sigmoid(17.0));\n",
    "println!(\"---\");\n",
    "println!(\"sigmoid(-88) = (f32) {}\", Sigmoid::sigmoid(-88f32));\n",
    "println!(\"sigmoid(-88) = (f64) {}\", Sigmoid::sigmoid(-88f64));\n",
    "println!(\"sigmoid(-89) = (f32) {}\", Sigmoid::sigmoid(-89f32)); // around -89 = maximum f32 negative range\n",
    "println!(\"sigmoid(-89) = (f64) {}\", Sigmoid::sigmoid(-89f64));\n",
    "\"done\""
   ]
  },
  {
   "cell_type": "markdown",
   "metadata": {},
   "source": [
    "### 4.2 - Initializing parameters\n",
    "\n",
    "**Exercise:** Implement parameter initialization in the cell below. You have to initialize w as a vector of zeros. If you don't know what numpy function to use, look up np.zeros() in the Numpy library's documentation."
   ]
  },
  {
   "cell_type": "code",
   "execution_count": 18,
   "metadata": {},
   "outputs": [
    {
     "data": {
      "text/plain": [
       "\"done\""
      ]
     },
     "execution_count": 18,
     "metadata": {},
     "output_type": "execute_result"
    }
   ],
   "source": [
    "/// initialize `w` and `b`.  \n",
    "/// `w` is a 2Darray with `dim` rows and 1 col.  \n",
    "/// `dim` is the number of features.\n",
    "pub fn initialize_with_zeros<T>(dim: usize) -> (Array2<T>, T) \n",
    "    where T: Clone + Zero\n",
    "{\n",
    "    let w = Array2::<T>::zeros((dim, 1));\n",
    "    let b = T::zero();\n",
    "    (w, b)\n",
    "}\n",
    "\"done\""
   ]
  },
  {
   "cell_type": "code",
   "execution_count": 19,
   "metadata": {},
   "outputs": [
    {
     "name": "stdout",
     "output_type": "stream",
     "text": [
      "w = [[0.0],\n",
      " [0.0]] shape=[2, 1], strides=[1, 1], layout=C (0x1), const ndim=2\n",
      "b = 0.0\n"
     ]
    },
    {
     "data": {
      "text/plain": [
       "\"done\""
      ]
     },
     "execution_count": 19,
     "metadata": {},
     "output_type": "execute_result"
    }
   ],
   "source": [
    "let dim = 2;\n",
    "let (w, b) = initialize_with_zeros::<f32>(2);\n",
    "println!(\"w = {:?}\", w);\n",
    "println!(\"b = {:?}\", b);\n",
    "\"done\""
   ]
  },
  {
   "cell_type": "markdown",
   "metadata": {},
   "source": [
    "For image inputs, w will be of shape (num_px * num_px * 3, 1)."
   ]
  },
  {
   "cell_type": "markdown",
   "metadata": {},
   "source": [
    "### 4.3 - Forward and Backward propagation\n",
    "\n",
    "Now that your parameters are initialized, you can do the \"forward\" and \"backward\" propagation steps for learning the parameters.\n",
    "\n",
    "**Exercise:** Implement a function `propagate()` that computes the cost function and its gradient.\n",
    "\n",
    "**Hints**:\n",
    "\n",
    "Forward Propagation:\n",
    "- You get X\n",
    "- You compute $A = \\sigma(w^T X + b) = (a^{(0)}, a^{(1)}, ..., a^{(m-1)}, a^{(m)})$\n",
    "- You calculate the cost function: $J = -\\frac{1}{m}\\sum_{i=1}^{m}y^{(i)}\\log(a^{(i)})+(1-y^{(i)})\\log(1-a^{(i)})$\n",
    "\n",
    "Here are the two formulas you will be using: \n",
    "\n",
    "$$ \\frac{\\partial J}{\\partial w} = \\frac{1}{m}X(A-Y)^T\\tag{7}$$\n",
    "$$ \\frac{\\partial J}{\\partial b} = \\frac{1}{m} \\sum_{i=1}^m (a^{(i)}-y^{(i)})\\tag{8}$$"
   ]
  },
  {
   "cell_type": "code",
   "execution_count": 20,
   "metadata": {},
   "outputs": [
    {
     "data": {
      "text/plain": [
       "\"done\""
      ]
     },
     "execution_count": 20,
     "metadata": {},
     "output_type": "execute_result"
    }
   ],
   "source": [
    "/// Implement the cost function and its gradient for the propagation\n",
    "/// explained above.\n",
    "/// \n",
    "/// ## Parameters\n",
    "/// \n",
    "/// - `w` is the weight, a 2Darray (num_features, 1).\n",
    "/// - `b` is the bias, a scalar.\n",
    "/// - `x` is the data, a 2D array (num_features, num_cases).\n",
    "/// - `y` is the \"label\" vector, a 2D (1, num_cases).\n",
    "///    - For the cat example, 0 means \"non-cat\", 1 means \"cat\".\n",
    "/// \n",
    "/// ## Return\n",
    "/// \n",
    "/// - `dw` is the gradient of the loss with respect to w, thus same shape\n",
    "/// as w.\n",
    "/// - `db` is the gradient of the loss with respect to b, thus same shape\n",
    "/// as b.\n",
    "/// - `cost` is the negative log-likelihood cost for logistic regression.\n",
    "pub fn propagate(w: ArrayView2<f32>, b: f32, x: ArrayView2<f32>, y: ArrayView2<u8>) -> ((Array2<f32>, f32), f32) {\n",
    "    let (num_features, num_cases) = x.dim();\n",
    "\n",
    "    // assert shapes' coherence\n",
    "    {\n",
    "        let (num_features_w, one) = w.dim();\n",
    "        assert_eq!(one, 1);\n",
    "        assert_eq!(num_features, num_features_w);\n",
    "        let (one, num_cases_y) = y.dim();\n",
    "        assert_eq!(one, 1);\n",
    "        assert_eq!(num_cases, num_cases_y);\n",
    "    }\n",
    "\n",
    "    // temporarily converts y elements (u8) into f32\n",
    "    let y = y.mapv(f32::from);\n",
    "\n",
    "    // forward propagation (from x to cost)\n",
    "    let (a, cost): (Array2<f32>, f32) = {\n",
    "\n",
    "        // activation\n",
    "        // 𝐴 = 𝜎(𝑤^𝑇 𝑋 + 𝑏) = (𝑎(0), 𝑎(1),..., 𝑎(𝑚−1), 𝑎(𝑚))\n",
    "        let a: Array2<f32> = {\n",
    "\n",
    "            // 𝑧(𝑖) = 𝑤^𝑇 𝑥(𝑖) + 𝑏\n",
    "            let z = \n",
    "\n",
    "                // w has shape (num_features, 1)\n",
    "                w\n",
    "\n",
    "                // transposes into the shape (1, num_features)\n",
    "                .t() \n",
    "\n",
    "                // ((1, num_features) dot (num_features, num_cases))\n",
    "                //\n",
    "                // from https://docs.rs/ndarray/0.12.1/ndarray/struct.ArrayBase.html#method.dot\n",
    "                //\n",
    "                // If Rhs is two-dimensional, \n",
    "                // then the operation is matrix multiplication, \n",
    "                // where self is treated as a row vector. \n",
    "                // In this case, if self is shape (num_features)\n",
    "                // - which is for our case, (1, num_features) -, \n",
    "                // then rhs is shape (num_features, num_cases) \n",
    "                // and the result is shape (num_cases).\n",
    "                //\n",
    "                // for our case, results in shape (1, num_cases).\n",
    "                .dot(&x) \n",
    "\n",
    "                // vector-like 2Darray + scalar\n",
    "                //\n",
    "                // from https://docs.rs/ndarray/0.12.1/ndarray/struct.ArrayBase.html#impl-Add%3CB%3E\n",
    "                //\n",
    "                // Perform elementwise addition between self \n",
    "                // and the scalar x, \n",
    "                // and return the result (based on self).\n",
    "                //\n",
    "                // so the shape is maintened at (1, num_cases).\n",
    "                + b;\n",
    "\n",
    "            // 𝑦̂(𝑖) = 𝑎(𝑖) = 𝑠𝑖𝑔𝑚𝑜𝑖𝑑 ( 𝑧(𝑖) )\n",
    "            // for each element, replaces it with a function of itself\n",
    "            // eg. [e1, e2, e3] becomes [f(e1), f(e2), f(e3)]\n",
    "            // \n",
    "            // the shape is maintened at (1, num_cases).\n",
    "            z.mapv(Sigmoid::sigmoid)\n",
    "        };\n",
    "        assert_eq!((1, num_cases), a.dim());\n",
    "\n",
    "        // 𝐽 = −1/𝑚 \n",
    "        //     (∑[𝑖=1;m] \n",
    "        //          𝑦(𝑖) log(𝑎(𝑖)) \n",
    "        //          + (1−𝑦(𝑖)) log(1−𝑎(𝑖))\n",
    "        //     )\n",
    "        let cost: f32 = \n",
    "\n",
    "            // −1/𝑚 (...)\n",
    "            //\n",
    "            // scalar\n",
    "            (- 1.0 / num_cases as f32)\n",
    "\n",
    "            // multitplication of scalars \n",
    "            * \n",
    "            // since num_cases elements were added in the sum,\n",
    "            // this multiplication represents \"taking the average\"\n",
    "            // from those elements (since it's dividing by it's length)\n",
    "\n",
    "            // −1/𝑚 ∑[𝑖=1;m] (...)\n",
    "            //\n",
    "            // element-wise cumulative addition of the elements \n",
    "            // results in a scalar\n",
    "            Array::sum(\n",
    "\n",
    "                // after the addition, results in \n",
    "                // (1, num_cases) \n",
    "                &(\n",
    "                    // −1/𝑚 ∑[𝑖=1;m] 𝑦(𝑖) log(𝑎(𝑖)) + (...)\n",
    "                    //\n",
    "                    // ((1, num_cases) * (1, num_cases)), element-wise\n",
    "                    // resulting shape is maintened at (1, num_cases)\n",
    "                    (a.mapv(f32::ln) * &y)\n",
    "                    // ps. the terms 𝑦(𝑖) and log(𝑎(𝑖)) are actually\n",
    "                    // swapped so that y does not need to be moved.\n",
    "                    // but since they have the same shape and since\n",
    "                    // they are row-vectors, this should be allowed\n",
    "\n",
    "                    // element-wise addition of two vectors and results in\n",
    "                    // (1, num_cases) \n",
    "                    +\n",
    "\n",
    "                    // −1/𝑚 ∑[𝑖=1;m] (...) + (1−𝑦(𝑖)) log(1−𝑎(𝑖))\n",
    "                    //\n",
    "                    // the subtraction is element-wise and results in\n",
    "                    // (1, num_cases)\n",
    "                    //\n",
    "                    // the mapping is also element-wise and results in\n",
    "                    // (1, num_cases)\n",
    "                    //\n",
    "                    // the multiplication is element-wise and results in\n",
    "                    // (1, num_cases)\n",
    "                    ((1.0 - &y) * a.mapv(|ai| f32::ln(1.0 - ai)))\n",
    "\n",
    "                )\n",
    "            );\n",
    "        (a, cost)\n",
    "    };\n",
    "\n",
    "    // backward propagation (to find grad)\n",
    "    let (dw, db): (Array2<f32>, f32) = {\n",
    "\n",
    "        // ∂𝐽/∂𝑤 = 1/𝑚 𝑋 ((𝐴−𝑌)^𝑇)\n",
    "        let dw: Array2<f32> = \n",
    "\n",
    "            // −1/𝑚 (...)\n",
    "            //\n",
    "            // scalar\n",
    "            (1.0 / num_cases as f32)\n",
    "\n",
    "            // multitplication of a scalar and a 2Darray \n",
    "            // (num_features, 1) (after the dot product), \n",
    "            // which maintains the shape\n",
    "            // (num_features, 1) \n",
    "            * \n",
    "\n",
    "            // 1/𝑚 𝑋 (...)\n",
    "            //\n",
    "            // (num_features, num_cases)\n",
    "            x\n",
    "\n",
    "            // 1/𝑚 𝑋 (...)\n",
    "            //\n",
    "            // (num_features, num_cases) dot (num_cases, 1), results in\n",
    "            // (num_features, 1)\n",
    "            .dot(\n",
    "\n",
    "                // 1/𝑚 𝑋 (...)^𝑇\n",
    "                //\n",
    "                // (1, num_cases) transposed results in\n",
    "                // (num_cases, 1) - column vector\n",
    "                &Array2::t(\n",
    "\n",
    "                    // 1/𝑚 𝑋 ((𝐴−𝑌)^𝑇)\n",
    "                    //\n",
    "                    // (1, num_cases) - (1, num_cases) results in\n",
    "                    // (1, num_cases) - row vector\n",
    "                    &(a.clone() - &y)\n",
    "                )\n",
    "            );\n",
    "        assert_eq!((num_features, 1), dw.dim());\n",
    "\n",
    "        // ∂𝐽/∂𝑏 = 1/𝑚 ∑[𝑖=1;𝑚] (𝑎(𝑖)−𝑦(𝑖))\n",
    "        let db: f32 = \n",
    "\n",
    "            // −1/𝑚 (...)\n",
    "            //\n",
    "            // scalar\n",
    "            (1.0 / num_cases as f32)\n",
    "\n",
    "            // −1/𝑚 (...)\n",
    "            //\n",
    "            // scalar and scalar multiplication, results in scalar\n",
    "            *\n",
    "\n",
    "            // 1/𝑚 ∑[𝑖=1;𝑚] (...)\n",
    "            //\n",
    "            // element-wise cumulative addition of the elements \n",
    "            // results in a scalar\n",
    "            Array::sum(\n",
    "\n",
    "                // 1/𝑚 ∑[𝑖=1;𝑚] (𝑎(𝑖)−𝑦(𝑖))\n",
    "                //\n",
    "                // (1, num_cases) - (1, num_cases) results in\n",
    "                // (1, num_cases) - row vector\n",
    "                &(a - &y)\n",
    "\n",
    "            );\n",
    "\n",
    "        (dw, db)\n",
    "    };\n",
    "    \n",
    "    assert_eq!(dw.dim(), w.dim());\n",
    "\n",
    "    // return gradients and cost\n",
    "    ((dw, db), cost)\n",
    "}\n",
    "\"done\""
   ]
  },
  {
   "cell_type": "code",
   "execution_count": 21,
   "metadata": {},
   "outputs": [
    {
     "name": "stdout",
     "output_type": "stream",
     "text": [
      "dw = [[0.9999321],\n",
      " [1.9998026]] shape=[2, 1], strides=[1, 1], layout=C (0x1), const ndim=2\n",
      "db = 0.4999352\n",
      "cost = 5.995632\n"
     ]
    },
    {
     "data": {
      "text/plain": [
       "\"done\""
      ]
     },
     "execution_count": 21,
     "metadata": {},
     "output_type": "execute_result"
    }
   ],
   "source": [
    "use ndarray::arr2;\n",
    "let w = arr2(&[[1.0], [2.0]]);\n",
    "let b = 2.0;\n",
    "let x = arr2(&[[1.0, 2.0], [3.0, 4.0]]);\n",
    "let y = arr2(&[[1, 0]]);\n",
    "\n",
    "let ((dw, db), cost) = propagate(w.view(), b, x.view(), y.view());\n",
    "println!(\"dw = {:?}\", dw);\n",
    "println!(\"db = {:?}\", db);\n",
    "println!(\"cost = {:?}\", cost);\n",
    "\"done\""
   ]
  },
  {
   "cell_type": "markdown",
   "metadata": {},
   "source": [
    "### d) Optimization\n",
    "- You have initialized your parameters.\n",
    "- You are also able to compute a cost function and its gradient.\n",
    "- Now, you want to update the parameters using gradient descent.\n",
    "\n",
    "**Exercise:** Write down the optimization function. The goal is to learn $w$ and $b$ by minimizing the cost function $J$. For a parameter $\\theta$, the update rule is $ \\theta = \\theta - \\alpha \\text{ } d\\theta$, where $\\alpha$ is the learning rate."
   ]
  },
  {
   "cell_type": "code",
   "execution_count": 22,
   "metadata": {},
   "outputs": [
    {
     "data": {
      "text/plain": [
       "\"done\""
      ]
     },
     "execution_count": 22,
     "metadata": {},
     "output_type": "execute_result"
    }
   ],
   "source": [
    "/// This function optimizes w and b\n",
    "/// by running a gradient descent algorithm\n",
    "///\n",
    "/// ## Parameters\n",
    "/// \n",
    "/// - `w` is the weight, a 2Darray (num_features, 1).\n",
    "/// - `b` is the bias, a scalar.\n",
    "/// - `x` is the data, a 2D array (num_features, num_cases).\n",
    "/// - `y` is the \"label\" vector, a 2D (1, num_cases).\n",
    "///    - For the cat example, 0 means \"non-cat\", 1 means \"cat\".\n",
    "/// - `num_iterations` is the number of iterations of\n",
    "/// the optimization loop.\n",
    "/// - `learning_rate` is the learning rate of \n",
    "/// the gradient descent update rule.\n",
    "/// - `print_cost` as True means to print the loss every 100 steps.\n",
    "/// \n",
    "/// ## Return\n",
    "/// \n",
    "/// `params` is a dictionary containing the weights w and bias b.\n",
    "///     - This is not returned but changed in-place.\n",
    "/// `grads` is a dictionary containing the gradients of the weights \n",
    "/// and bias with respect to the cost function.\n",
    "///     - This is not returned.\n",
    "/// costs is the list of all the costs computed during the optimization,\n",
    "/// this will be used to plot the learning curve.\n",
    "pub fn optimize(\n",
    "    mut w: ArrayViewMut2<f32>, \n",
    "    b: &mut f32, \n",
    "    x: ArrayView2<f32>, \n",
    "    y: ArrayView2<u8>, \n",
    "    num_iterations: usize, \n",
    "    learning_rate: f32, \n",
    "    print_cost: bool\n",
    ") -> Vec<f32> {\n",
    "    // Tips:\n",
    "    // You basically need to write down two steps and iterate through them:\n",
    "    // 1. Calculate the cost and the gradient for the current parameters.\n",
    "    // Use propagate().\n",
    "    // 2. Update the parameters using gradient descent rule for w and b.\n",
    "\n",
    "    let mut costs = vec![];\n",
    "\n",
    "    for i in 0..num_iterations {\n",
    "        // cost and gradient calculation \n",
    "        let ((dw, db), cost) = propagate(w.view(), *b, x.view(), y.view());\n",
    "\n",
    "        // update rule \n",
    "        use ndarray::Zip;\n",
    "\n",
    "        // shape of both w and dw is (num_features, 1)\n",
    "\n",
    "        // w -= learning_rate * dw \n",
    "        Zip::from(w.lanes_mut(Axis(1)))\n",
    "            .and(dw.lanes(Axis(1)))\n",
    "            .apply(|mut wi, dwi| wi[0] -= learning_rate * dwi[0]);\n",
    "\n",
    "        *b = *b - learning_rate * db ;\n",
    "\n",
    "        if i % 100 == 0 {\n",
    "            costs.push(cost);\n",
    "        }\n",
    "\n",
    "        // print the cost every 100 training examples\n",
    "        if print_cost && i % 100 == 0 {\n",
    "            println!(\"cost after iteration {}: {}\", i, cost);\n",
    "        }\n",
    "    }\n",
    "\n",
    "    costs\n",
    "}\n",
    "\"done\""
   ]
  },
  {
   "cell_type": "code",
   "execution_count": 23,
   "metadata": {},
   "outputs": [
    {
     "name": "stdout",
     "output_type": "stream",
     "text": [
      "w = [[0.112458035],\n",
      " [0.23106757]] shape=[2, 1], strides=[1, 1], layout=C (0x1), const ndim=2\n",
      "b = 1.5593045\n"
     ]
    },
    {
     "data": {
      "text/plain": [
       "\"done\""
      ]
     },
     "execution_count": 23,
     "metadata": {},
     "output_type": "execute_result"
    }
   ],
   "source": [
    "// repeats a similar small-example definition\n",
    "let mut w = arr2(&[[1.0], [2.0]]);\n",
    "let mut b = 2.0;\n",
    "let x = arr2(&[[1.0, 2.0], [3.0, 4.0]]);\n",
    "let y = arr2(&[[1, 0]]);\n",
    "\n",
    "// tests the function\n",
    "let costs = optimize(w.view_mut(), &mut b, x.view(), y.view(), 100, 0.009, false);\n",
    "println!(\"w = {:?}\", &w);\n",
    "println!(\"b = {:?}\", &b);\n",
    "\"done\""
   ]
  },
  {
   "cell_type": "markdown",
   "metadata": {},
   "source": [
    "**Exercise:** The previous function will output the learned w and b. We are able to use w and b to predict the labels for a dataset X. Implement the `predict()` function. There is two steps to computing predictions:\n",
    "\n",
    "1. Calculate $\\hat{Y} = A = \\sigma(w^T X + b)$\n",
    "\n",
    "2. Convert the entries of a into 0 (if activation <= 0.5) or 1 (if activation > 0.5), stores the predictions in a vector `Y_prediction`. If you wish, you can use an `if`/`else` statement in a `for` loop (though there is also a way to vectorize this). "
   ]
  },
  {
   "cell_type": "code",
   "execution_count": 24,
   "metadata": {},
   "outputs": [
    {
     "data": {
      "text/plain": [
       "\"done\""
      ]
     },
     "execution_count": 24,
     "metadata": {},
     "output_type": "execute_result"
    }
   ],
   "source": [
    "// graded function: predict\n",
    "\n",
    "/// Predict whether the label is 0 or 1 \n",
    "/// using learned logistic regression parameters (w, b)\n",
    "/// \n",
    "/// ## Parameters\n",
    "/// \n",
    "/// - `w`  are the weights, \n",
    "/// a numpy array of size (num_px * num_px * 3, 1)\n",
    "/// - `b` is the bias, a scalar\n",
    "/// - `x` is the data of size \n",
    "/// (num_px * num_px * 3, number_of_examples)\n",
    "/// \n",
    "/// ## Return\n",
    "/// \n",
    "/// - `y_prediction` is a numpy array (vector)\n",
    "/// containing all predictions (0/1) for the examples in `x`\n",
    "pub fn predict(\n",
    "    w: ArrayView2<f32>, \n",
    "    b: f32, \n",
    "    x: ArrayView2<f32>, \n",
    ") -> Array2<f32> {\n",
    "\n",
    "    let (num_features, num_cases) = x.dim();\n",
    "    let y_prediction = Array2::<f32>::zeros((1, num_cases));\n",
    "    assert_eq!(w.dim(), (num_features, 1));\n",
    "\n",
    "    // compute vector \"A\" predicting the probabilities of\n",
    "    // a cat being present in the picture\n",
    "\n",
    "    let a = {\n",
    "        let z = \n",
    "\n",
    "            // w has shape (num_features, 1)\n",
    "            w\n",
    "\n",
    "            // transposes into the shape (1, num_features)\n",
    "            .t() \n",
    "\n",
    "            // ((1, num_features) dot (num_features, num_cases))\n",
    "            //\n",
    "            // from https://docs.rs/ndarray/0.12.1/ndarray/struct.ArrayBase.html#method.dot\n",
    "            //\n",
    "            // If Rhs is two-dimensional, \n",
    "            // then the operation is matrix multiplication, \n",
    "            // where self is treated as a row vector. \n",
    "            // In this case, if self is shape (num_features)\n",
    "            // - which is for our case, (1, num_features) -, \n",
    "            // then rhs is shape (num_features, num_cases) \n",
    "            // and the result is shape (num_cases).\n",
    "            //\n",
    "            // for our case, results in shape (1, num_cases).\n",
    "            .dot(&x) \n",
    "\n",
    "            // vector-like 2Darray + scalar\n",
    "            //\n",
    "            // from https://docs.rs/ndarray/0.12.1/ndarray/struct.ArrayBase.html#impl-Add%3CB%3E\n",
    "            //\n",
    "            // Perform elementwise addition between self \n",
    "            // and the scalar x, \n",
    "            // and return the result (based on self).\n",
    "            //\n",
    "            // so the shape is maintened at (1, num_cases).\n",
    "            + b;\n",
    "\n",
    "        // 𝑦̂(𝑖) = 𝑎(𝑖) = 𝑠𝑖𝑔𝑚𝑜𝑖𝑑 ( 𝑧(𝑖) )\n",
    "        // for each element, replaces it with a function of itself\n",
    "        // eg. [e1, e2, e3] becomes [f(e1), f(e2), f(e3)]\n",
    "        // \n",
    "        // the shape is maintened at (1, num_cases).\n",
    "        z.mapv(Sigmoid::sigmoid)\n",
    "    };\n",
    "    assert_eq!(a.dim(), (1, num_cases));\n",
    "\n",
    "    // convert probabilities a[0,i]\n",
    "    // to actual predictions p[0,i]\n",
    "    a.mapv(|ai| if ai > 0.5 { 1.0 } else { 0.0 })\n",
    "}\n",
    "\"done\""
   ]
  },
  {
   "cell_type": "code",
   "execution_count": 25,
   "metadata": {},
   "outputs": [
    {
     "name": "stdout",
     "output_type": "stream",
     "text": [
      "predictions = [[1.0, 1.0]] shape=[1, 2], strides=[2, 1], layout=C (0x1), const ndim=2\n"
     ]
    },
    {
     "data": {
      "text/plain": [
       "\"done\""
      ]
     },
     "execution_count": 25,
     "metadata": {},
     "output_type": "execute_result"
    }
   ],
   "source": [
    "// repeats a similar small-example definition\n",
    "let mut w = arr2(&[[1.0], [2.0]]);\n",
    "let mut b = 2.0;\n",
    "let x = arr2(&[[1.0, 2.0], [3.0, 4.0]]);\n",
    "let y = arr2(&[[1, 0]]);\n",
    "let _costs = optimize(w.view_mut(), &mut b, x.view(), y.view(), 100, 0.009, false);\n",
    "\n",
    "println!(\"predictions = {:?}\", predict(w.view(), b, x.view()));\n",
    "\"done\""
   ]
  },
  {
   "cell_type": "markdown",
   "metadata": {},
   "source": [
    "**What to remember:**\n",
    "You've implemented several functions that:\n",
    "- Initialize (w,b)\n",
    "- Optimize the loss iteratively to learn parameters (w,b):\n",
    "    - computing the cost and its gradient \n",
    "    - updating the parameters using gradient descent\n",
    "- Use the learned (w,b) to predict the labels for a given set of examples\n",
    "\n",
    "---"
   ]
  },
  {
   "cell_type": "markdown",
   "metadata": {},
   "source": [
    "## 5 - Merge all functions into a model ##\n",
    "\n",
    "You will now see how the overall model is structured by putting together all the building blocks (functions implemented in the previous parts) together, in the right order.\n",
    "\n",
    "**Exercise:** Implement the model function. Use the following notation:\n",
    "    - Y_prediction for your predictions on the test set\n",
    "    - Y_prediction_train for your predictions on the train set\n",
    "    - w, costs, grads for the outputs of optimize()"
   ]
  },
  {
   "cell_type": "code",
   "execution_count": 26,
   "metadata": {},
   "outputs": [
    {
     "data": {
      "text/plain": [
       "\"done\""
      ]
     },
     "execution_count": 26,
     "metadata": {},
     "output_type": "execute_result"
    }
   ],
   "source": [
    "// graded function: model\n",
    "/// Builds the logistic regression model\n",
    "/// by calling the function you've implemented previously.\n",
    "/// \n",
    "/// ## Parameters\n",
    "/// \n",
    "/// - `x_train` is the training set represented by\n",
    "/// a array of shape (num_px * num_px * 3, m_train).\n",
    "/// - `y_train` is the training labels represented by\n",
    "/// a array (vector) of shape (1, m_train).\n",
    "/// - `x_test` is the test set represented by a numpy array\n",
    "/// of shape (num_px * num_px * 3, m_test).\n",
    "/// - `y_test` is the test labels represented by\n",
    "/// a array (vector) of shape (1, m_test).\n",
    "/// - `num_iterations` is the hyperparameter representing\n",
    "/// the number of iterations to optimize the parameters.\n",
    "/// - `learning_rate` is the hyperparameter representing\n",
    "/// the learning rate used in the update rule of optimize().\n",
    "/// - `print_cost` is the set to true to print\n",
    "/// the cost every 100 iterations.\n",
    "/// \n",
    "/// ## Return\n",
    "/// \n",
    "/// - `costs`.\n",
    "/// - `y_prediction_test`.\n",
    "/// - `y_prediction_train`.\n",
    "/// - `w`.\n",
    "/// - `b`.\n",
    "pub fn model(\n",
    "    x_train: ArrayView2<f32>,\n",
    "    y_train: ArrayView2<u8>,\n",
    "    x_test: ArrayView2<f32>,\n",
    "    y_test: ArrayView2<f32>,\n",
    "    num_iterations: usize,\n",
    "    learning_rate: f32,\n",
    "    print_cost: bool,\n",
    ") -> (\n",
    "        std::vec::Vec<f32>, \n",
    "        Array2<f32>,\n",
    "        Array2<f32>,\n",
    "        Array2<f32>,\n",
    "        f32\n",
    "    )\n",
    "{\n",
    "\n",
    "    // initialize parameters with zeros\n",
    "    let (num_train_features, num_train_cases) = \n",
    "        x_train.dim();\n",
    "    let (mut w, mut b): (_, f32) = \n",
    "        initialize_with_zeros(num_train_features);\n",
    "\n",
    "    // gradient descent\n",
    "    let costs = optimize(\n",
    "        w.view_mut(), \n",
    "        &mut b, \n",
    "        x_train, \n",
    "        y_train, \n",
    "        num_iterations, \n",
    "        learning_rate, \n",
    "        print_cost\n",
    "    );\n",
    "\n",
    "    // predict test/train set examples\n",
    "    let y_prediction_train = predict(w.view(), b, x_train);\n",
    "    let y_prediction_test = predict(w.view(), b, x_test);\n",
    "\n",
    "    // print train/test Errors\n",
    "    println!(\"train accuracy: {} %\", \n",
    "        100.0\n",
    "        - (&y_prediction_train - &y_train.mapv(f32::from))\n",
    "            .mapv(f32::abs)\n",
    "            .mean_axis(Axis(1))\n",
    "            * 100.0\n",
    "    );\n",
    "    println!(\"test accuracy: {} %\", \n",
    "        100.0\n",
    "        - (&y_prediction_test - &y_test.mapv(f32::from))\n",
    "            .mapv(f32::abs)\n",
    "            .mean_axis(Axis(1))\n",
    "            * 100.0\n",
    "    );\n",
    "\n",
    "    (\n",
    "        costs, \n",
    "        y_prediction_test, \n",
    "        y_prediction_train,\n",
    "        w,\n",
    "        b,\n",
    "    )\n",
    "}\n",
    "\"done\""
   ]
  },
  {
   "cell_type": "code",
   "execution_count": 27,
   "metadata": {},
   "outputs": [
    {
     "name": "stdout",
     "output_type": "stream",
     "text": [
      "cost after iteration 0: 0.6931474\n",
      "cost after iteration 100: 0.58450836\n",
      "cost after iteration 200: 0.46694902\n",
      "cost after iteration 300: 0.37600684\n",
      "cost after iteration 400: 0.33146322\n",
      "cost after iteration 500: 0.30327305\n",
      "cost after iteration 600: 0.27987954\n",
      "cost after iteration 700: 0.26004213\n",
      "cost after iteration 800: 0.24294066\n",
      "cost after iteration 900: 0.22800423\n",
      "cost after iteration 1000: 0.2148195\n",
      "cost after iteration 1100: 0.20307821\n",
      "cost after iteration 1200: 0.19254427\n",
      "cost after iteration 1300: 0.18303333\n",
      "cost after iteration 1400: 0.17439857\n",
      "cost after iteration 1500: 0.16652139\n",
      "cost after iteration 1600: 0.15930453\n",
      "cost after iteration 1700: 0.15266733\n",
      "cost after iteration 1800: 0.14654224\n",
      "cost after iteration 1900: 0.14087206\n",
      "train accuracy: [99.04306] %\n",
      "test accuracy: [70] %\n"
     ]
    },
    {
     "data": {
      "text/plain": [
       "\"done\""
      ]
     },
     "execution_count": 27,
     "metadata": {},
     "output_type": "execute_result"
    }
   ],
   "source": [
    "// use :help for seeing commands from evcxr\n",
    "// for this last cell, restart the kernel and use the command :opt until it's set to 2 (optimized for speed)\n",
    "// (this is already done in the first cell)\n",
    "// \n",
    "// without optimization this gets ~100x slower, which is impractical\n",
    "\n",
    "let d = model(\n",
    "    train_x_flat.view(),\n",
    "    train_y.view(),\n",
    "    test_x_flat.view(),\n",
    "    test_y.mapv(f32::from).view(),\n",
    "    2000, // num_iterations\n",
    "    0.005, // learning_rate\n",
    "    true // print_cost\n",
    ");\n",
    "\n",
    "\"done\""
   ]
  },
  {
   "cell_type": "markdown",
   "metadata": {},
   "source": [
    "**Comment**: Training accuracy is close to 100%. This is a good sanity check: your model is working and has high enough capacity to fit the training data. Test error is 68%. It is actually not bad for this simple model, given the small dataset we used and that logistic regression is a linear classifier. But no worries, you'll build an even better classifier next week!\n",
    "\n",
    "Also, you see that the model is clearly overfitting the training data. Later in this specialization you will learn how to reduce overfitting, for example by using regularization. Using the code below (and changing the `index` variable) you can look at predictions on pictures of the test set."
   ]
  },
  {
   "cell_type": "code",
   "execution_count": 28,
   "metadata": {},
   "outputs": [
    {
     "data": {
      "image/png": "[encoded data removed]",
      "text/plain": [
       "()"
      ]
     },
     "execution_count": 28,
     "metadata": {},
     "output_type": "execute_result"
    }
   ],
   "source": [
    "// one image display\n",
    "let index = 5;\n",
    "let (width, height) = (64, 64);\n",
    "\n",
    "let img_subview = test_x.index_axis(Axis(0), index).to_owned();\n",
    "// use ndarray::s; // slice macro // already imported\n",
    "\n",
    "// test image displaying\n",
    "let img = image::ImageBuffer::from_fn(width, height, |x, y| {\n",
    "    let color = img_subview.slice(s![y as usize, x as usize]).to_owned(); // shape: [] (zero-dimension), element = Color.\n",
    "    // so this is not an actual array, but a single element. But we treat as an array anyway and get the \"first\" element.\n",
    "    let color = &color.as_slice().unwrap()[0];\n",
    "    image::Rgb([color.red, color.green, color.blue])\n",
    "});\n",
    "\n",
    "img.evcxr_display() // the only output on the cell must be a single image"
   ]
  },
  {
   "cell_type": "code",
   "execution_count": 31,
   "metadata": {},
   "outputs": [
    {
     "name": "stdout",
     "output_type": "stream",
     "text": [
      "y = 0 but you predicted that it was a Cat picture.\n"
     ]
    },
    {
     "data": {
      "text/plain": [
       "\"done\""
      ]
     },
     "execution_count": 31,
     "metadata": {},
     "output_type": "execute_result"
    }
   ],
   "source": [
    "// example of a picture that was wrongly classified.\n",
    "let index = 5;\n",
    "\n",
    "println!(\n",
    "    \"y = {} but you predicted that it was a {:?} picture.\", \n",
    "    test_y[[0, index]],\n",
    "    Class::from(&(d.1[[0, index]] as u8))\n",
    ");\n",
    "\"done\""
   ]
  },
  {
   "cell_type": "markdown",
   "metadata": {},
   "source": [
    "Let's also plot the cost function and the gradients."
   ]
  },
  {
   "cell_type": "code",
   "execution_count": 42,
   "metadata": {},
   "outputs": [
    {
     "data": {
      "text/plain": [
       "\"TODO (involves plotting..)\""
      ]
     },
     "execution_count": 42,
     "metadata": {},
     "output_type": "execute_result"
    }
   ],
   "source": [
    "// plot learning curve (with costs)\n",
    "\n",
    "\"TODO (involves plotting..)\""
   ]
  },
  {
   "cell_type": "markdown",
   "metadata": {},
   "source": [
    "**Interpretation**:\n",
    "You can see the cost decreasing. It shows that the parameters are being learned. However, you see that you could train the model even more on the training set. Try to increase the number of iterations in the cell above and rerun the cells. You might see that the training set accuracy goes up, but the test set accuracy goes down. This is called overfitting. \n",
    "\n",
    "---"
   ]
  },
  {
   "cell_type": "markdown",
   "metadata": {},
   "source": [
    "## 6 - Further analysis (optional/ungraded exercise) ##\n",
    "\n",
    "Congratulations on building your first image classification model. Let's analyze it further, and examine possible choices for the learning rate $\\alpha$. "
   ]
  },
  {
   "cell_type": "markdown",
   "metadata": {},
   "source": [
    "#### Choice of learning rate ####\n",
    "\n",
    "**Reminder**:\n",
    "In order for Gradient Descent to work you must choose the learning rate wisely. The learning rate $\\alpha$  determines how rapidly we update the parameters. If the learning rate is too large we may \"overshoot\" the optimal value. Similarly, if it is too small we will need too many iterations to converge to the best values. That's why it is crucial to use a well-tuned learning rate.\n",
    "\n",
    "Let's compare the learning curve of our model with several choices of learning rates. Run the cell below. This should take about 1 minute. Feel free also to try different values than the three we have initialized the `learning_rates` variable to contain, and see what happens. "
   ]
  },
  {
   "cell_type": "code",
   "execution_count": 40,
   "metadata": {},
   "outputs": [
    {
     "data": {
      "text/plain": [
       "\"TODO (involves plotting)\""
      ]
     },
     "execution_count": 40,
     "metadata": {},
     "output_type": "execute_result"
    }
   ],
   "source": [
    "\"TODO (involves plotting..)\""
   ]
  },
  {
   "cell_type": "markdown",
   "metadata": {},
   "source": [
    "**Interpretation**: \n",
    "- Different learning rates give different costs and thus different predictions results.\n",
    "- If the learning rate is too large (0.01), the cost may oscillate up and down. It may even diverge (though in this example, using 0.01 still eventually ends up at a good value for the cost). \n",
    "- A lower cost doesn't mean a better model. You have to check if there is possibly overfitting. It happens when the training accuracy is a lot higher than the test accuracy.\n",
    "- In deep learning, we usually recommend that you: \n",
    "    - Choose the learning rate that better minimizes the cost function.\n",
    "    - If your model overfits, use other techniques to reduce overfitting. (We'll talk about this in later videos.) \n",
    "    \n",
    "---"
   ]
  },
  {
   "cell_type": "markdown",
   "metadata": {},
   "source": [
    "## 7 - Test with your own image (optional/ungraded exercise) ##\n",
    "\n",
    "Congratulations on finishing this assignment. You can use your own image and see the output of your model. To do that:\n",
    "    1. Click on \"File\" in the upper bar of this notebook, then click \"Open\" to go on your Coursera Hub.\n",
    "    2. Add your image to this Jupyter Notebook's directory, in the \"images\" folder\n",
    "    3. Change your image's name in the following code\n",
    "    4. Run the code and check if the algorithm is right (1 = cat, 0 = non-cat)!"
   ]
  },
  {
   "cell_type": "code",
   "execution_count": 41,
   "metadata": {},
   "outputs": [
    {
     "data": {
      "text/plain": [
       "\"TODO (involves some setup..)\""
      ]
     },
     "execution_count": 41,
     "metadata": {},
     "output_type": "execute_result"
    }
   ],
   "source": [
    "\"TODO (involves some setup..)\""
   ]
  },
  {
   "cell_type": "markdown",
   "metadata": {},
   "source": [
    "**What to remember from this assignment:**\n",
    "1. Preprocessing the dataset is important.\n",
    "2. You implemented each function separately: initialize(), propagate(), optimize(). Then you built a model().\n",
    "3. Tuning the learning rate (which is an example of a \"hyperparameter\") can make a big difference to the algorithm. You will see more examples of this later in this course!"
   ]
  },
  {
   "cell_type": "markdown",
   "metadata": {},
   "source": [
    "Finally, if you'd like, we invite you to try different things on this Notebook. Make sure you submit before trying anything. Once you submit, things you can play with include:\n",
    "    - Play with the learning rate and the number of iterations\n",
    "    - Try different initialization methods and compare the results\n",
    "    - Test other preprocessings (center the data, or divide each row by its standard deviation)"
   ]
  },
  {
   "cell_type": "markdown",
   "metadata": {},
   "source": [
    "Bibliography:\n",
    "- http://www.wildml.com/2015/09/implementing-a-neural-network-from-scratch/\n",
    "- https://stats.stackexchange.com/questions/211436/why-do-we-normalize-images-by-subtracting-the-datasets-image-mean-and-not-the-c"
   ]
  },
  {
   "cell_type": "code",
   "execution_count": 38,
   "metadata": {},
   "outputs": [
    {
     "data": {
      "text/plain": [
       "\"end of C1W2\""
      ]
     },
     "execution_count": 38,
     "metadata": {},
     "output_type": "execute_result"
    }
   ],
   "source": [
    "\"end of C1W2\""
   ]
  },
  {
   "cell_type": "code",
   "execution_count": null,
   "metadata": {},
   "outputs": [],
   "source": []
  }
 ],
 "metadata": {
  "kernelspec": {
   "display_name": "Rust",
   "language": "rust",
   "name": "rust"
  },
  "language_info": {
   "codemirror_mode": "rust",
   "file_extension": ".rs",
   "mimetype": "text/rust",
   "name": "Rust",
   "pygment_lexer": "rust",
   "version": ""
  }
 },
 "nbformat": 4,
 "nbformat_minor": 2
}
